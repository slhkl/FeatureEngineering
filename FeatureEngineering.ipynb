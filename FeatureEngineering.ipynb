{
  "nbformat": 4,
  "nbformat_minor": 0,
  "metadata": {
    "colab": {
      "provenance": []
    },
    "kernelspec": {
      "name": "python3",
      "display_name": "Python 3"
    },
    "language_info": {
      "name": "python"
    }
  },
  "cells": [
    {
      "cell_type": "code",
      "execution_count": 1,
      "metadata": {
        "id": "C4M5TaDnHHnn"
      },
      "outputs": [],
      "source": [
        "import numpy as np\n",
        "import pandas as pd\n",
        "from sklearn.ensemble import RandomForestClassifier\n",
        "from sklearn.metrics import accuracy_score\n",
        "from sklearn.model_selection import train_test_split\n",
        "from sklearn.preprocessing import StandardScaler\n",
        "from statsmodels.stats.proportion import proportions_ztest"
      ]
    },
    {
      "cell_type": "code",
      "source": [
        "pd.set_option('display.max_columns', None)\n",
        "pd.set_option('display.max_rows', None)\n",
        "pd.set_option('display.float_format', lambda x: '%.3f' % x)\n",
        "pd.set_option('display.width', 500)"
      ],
      "metadata": {
        "id": "YKEED8xkImVC"
      },
      "execution_count": 2,
      "outputs": []
    },
    {
      "cell_type": "code",
      "source": [
        "def load():\n",
        "    data = pd.read_csv(\"Dataset/diabetes.csv\")\n",
        "    data[\"Insulin\"] = data[\"Insulin\"].replace(0, np.nan)\n",
        "    data[\"Glucose\"] = data[\"Glucose\"].replace(0, np.nan)\n",
        "    return data"
      ],
      "metadata": {
        "id": "cafx274DInxM"
      },
      "execution_count": 15,
      "outputs": []
    },
    {
      "cell_type": "code",
      "source": [
        "df = load()\n",
        "df.head()"
      ],
      "metadata": {
        "id": "VXUbKk7YIqjg",
        "colab": {
          "base_uri": "https://localhost:8080/",
          "height": 226
        },
        "outputId": "f7b364db-4d2c-4aff-b38d-e70619d9a4bb"
      },
      "execution_count": 16,
      "outputs": [
        {
          "output_type": "execute_result",
          "data": {
            "text/plain": [
              "   Pregnancies  Glucose  BloodPressure  SkinThickness  Insulin    BMI  DiabetesPedigreeFunction  Age  Outcome\n",
              "0            6  148.000             72             35      NaN 33.600                     0.627   50        1\n",
              "1            1   85.000             66             29      NaN 26.600                     0.351   31        0\n",
              "2            8  183.000             64              0      NaN 23.300                     0.672   32        1\n",
              "3            1   89.000             66             23   94.000 28.100                     0.167   21        0\n",
              "4            0  137.000             40             35  168.000 43.100                     2.288   33        1"
            ],
            "text/html": [
              "\n",
              "  <div id=\"df-a96fa954-e2b0-40a5-b227-afdeb58db167\" class=\"colab-df-container\">\n",
              "    <div>\n",
              "<style scoped>\n",
              "    .dataframe tbody tr th:only-of-type {\n",
              "        vertical-align: middle;\n",
              "    }\n",
              "\n",
              "    .dataframe tbody tr th {\n",
              "        vertical-align: top;\n",
              "    }\n",
              "\n",
              "    .dataframe thead th {\n",
              "        text-align: right;\n",
              "    }\n",
              "</style>\n",
              "<table border=\"1\" class=\"dataframe\">\n",
              "  <thead>\n",
              "    <tr style=\"text-align: right;\">\n",
              "      <th></th>\n",
              "      <th>Pregnancies</th>\n",
              "      <th>Glucose</th>\n",
              "      <th>BloodPressure</th>\n",
              "      <th>SkinThickness</th>\n",
              "      <th>Insulin</th>\n",
              "      <th>BMI</th>\n",
              "      <th>DiabetesPedigreeFunction</th>\n",
              "      <th>Age</th>\n",
              "      <th>Outcome</th>\n",
              "    </tr>\n",
              "  </thead>\n",
              "  <tbody>\n",
              "    <tr>\n",
              "      <th>0</th>\n",
              "      <td>6</td>\n",
              "      <td>148.000</td>\n",
              "      <td>72</td>\n",
              "      <td>35</td>\n",
              "      <td>NaN</td>\n",
              "      <td>33.600</td>\n",
              "      <td>0.627</td>\n",
              "      <td>50</td>\n",
              "      <td>1</td>\n",
              "    </tr>\n",
              "    <tr>\n",
              "      <th>1</th>\n",
              "      <td>1</td>\n",
              "      <td>85.000</td>\n",
              "      <td>66</td>\n",
              "      <td>29</td>\n",
              "      <td>NaN</td>\n",
              "      <td>26.600</td>\n",
              "      <td>0.351</td>\n",
              "      <td>31</td>\n",
              "      <td>0</td>\n",
              "    </tr>\n",
              "    <tr>\n",
              "      <th>2</th>\n",
              "      <td>8</td>\n",
              "      <td>183.000</td>\n",
              "      <td>64</td>\n",
              "      <td>0</td>\n",
              "      <td>NaN</td>\n",
              "      <td>23.300</td>\n",
              "      <td>0.672</td>\n",
              "      <td>32</td>\n",
              "      <td>1</td>\n",
              "    </tr>\n",
              "    <tr>\n",
              "      <th>3</th>\n",
              "      <td>1</td>\n",
              "      <td>89.000</td>\n",
              "      <td>66</td>\n",
              "      <td>23</td>\n",
              "      <td>94.000</td>\n",
              "      <td>28.100</td>\n",
              "      <td>0.167</td>\n",
              "      <td>21</td>\n",
              "      <td>0</td>\n",
              "    </tr>\n",
              "    <tr>\n",
              "      <th>4</th>\n",
              "      <td>0</td>\n",
              "      <td>137.000</td>\n",
              "      <td>40</td>\n",
              "      <td>35</td>\n",
              "      <td>168.000</td>\n",
              "      <td>43.100</td>\n",
              "      <td>2.288</td>\n",
              "      <td>33</td>\n",
              "      <td>1</td>\n",
              "    </tr>\n",
              "  </tbody>\n",
              "</table>\n",
              "</div>\n",
              "    <div class=\"colab-df-buttons\">\n",
              "\n",
              "  <div class=\"colab-df-container\">\n",
              "    <button class=\"colab-df-convert\" onclick=\"convertToInteractive('df-a96fa954-e2b0-40a5-b227-afdeb58db167')\"\n",
              "            title=\"Convert this dataframe to an interactive table.\"\n",
              "            style=\"display:none;\">\n",
              "\n",
              "  <svg xmlns=\"http://www.w3.org/2000/svg\" height=\"24px\" viewBox=\"0 -960 960 960\">\n",
              "    <path d=\"M120-120v-720h720v720H120Zm60-500h600v-160H180v160Zm220 220h160v-160H400v160Zm0 220h160v-160H400v160ZM180-400h160v-160H180v160Zm440 0h160v-160H620v160ZM180-180h160v-160H180v160Zm440 0h160v-160H620v160Z\"/>\n",
              "  </svg>\n",
              "    </button>\n",
              "\n",
              "  <style>\n",
              "    .colab-df-container {\n",
              "      display:flex;\n",
              "      gap: 12px;\n",
              "    }\n",
              "\n",
              "    .colab-df-convert {\n",
              "      background-color: #E8F0FE;\n",
              "      border: none;\n",
              "      border-radius: 50%;\n",
              "      cursor: pointer;\n",
              "      display: none;\n",
              "      fill: #1967D2;\n",
              "      height: 32px;\n",
              "      padding: 0 0 0 0;\n",
              "      width: 32px;\n",
              "    }\n",
              "\n",
              "    .colab-df-convert:hover {\n",
              "      background-color: #E2EBFA;\n",
              "      box-shadow: 0px 1px 2px rgba(60, 64, 67, 0.3), 0px 1px 3px 1px rgba(60, 64, 67, 0.15);\n",
              "      fill: #174EA6;\n",
              "    }\n",
              "\n",
              "    .colab-df-buttons div {\n",
              "      margin-bottom: 4px;\n",
              "    }\n",
              "\n",
              "    [theme=dark] .colab-df-convert {\n",
              "      background-color: #3B4455;\n",
              "      fill: #D2E3FC;\n",
              "    }\n",
              "\n",
              "    [theme=dark] .colab-df-convert:hover {\n",
              "      background-color: #434B5C;\n",
              "      box-shadow: 0px 1px 3px 1px rgba(0, 0, 0, 0.15);\n",
              "      filter: drop-shadow(0px 1px 2px rgba(0, 0, 0, 0.3));\n",
              "      fill: #FFFFFF;\n",
              "    }\n",
              "  </style>\n",
              "\n",
              "    <script>\n",
              "      const buttonEl =\n",
              "        document.querySelector('#df-a96fa954-e2b0-40a5-b227-afdeb58db167 button.colab-df-convert');\n",
              "      buttonEl.style.display =\n",
              "        google.colab.kernel.accessAllowed ? 'block' : 'none';\n",
              "\n",
              "      async function convertToInteractive(key) {\n",
              "        const element = document.querySelector('#df-a96fa954-e2b0-40a5-b227-afdeb58db167');\n",
              "        const dataTable =\n",
              "          await google.colab.kernel.invokeFunction('convertToInteractive',\n",
              "                                                    [key], {});\n",
              "        if (!dataTable) return;\n",
              "\n",
              "        const docLinkHtml = 'Like what you see? Visit the ' +\n",
              "          '<a target=\"_blank\" href=https://colab.research.google.com/notebooks/data_table.ipynb>data table notebook</a>'\n",
              "          + ' to learn more about interactive tables.';\n",
              "        element.innerHTML = '';\n",
              "        dataTable['output_type'] = 'display_data';\n",
              "        await google.colab.output.renderOutput(dataTable, element);\n",
              "        const docLink = document.createElement('div');\n",
              "        docLink.innerHTML = docLinkHtml;\n",
              "        element.appendChild(docLink);\n",
              "      }\n",
              "    </script>\n",
              "  </div>\n",
              "\n",
              "\n",
              "<div id=\"df-0ce7a395-9e58-4141-b3e5-55a1fea5cc8d\">\n",
              "  <button class=\"colab-df-quickchart\" onclick=\"quickchart('df-0ce7a395-9e58-4141-b3e5-55a1fea5cc8d')\"\n",
              "            title=\"Suggest charts\"\n",
              "            style=\"display:none;\">\n",
              "\n",
              "<svg xmlns=\"http://www.w3.org/2000/svg\" height=\"24px\"viewBox=\"0 0 24 24\"\n",
              "     width=\"24px\">\n",
              "    <g>\n",
              "        <path d=\"M19 3H5c-1.1 0-2 .9-2 2v14c0 1.1.9 2 2 2h14c1.1 0 2-.9 2-2V5c0-1.1-.9-2-2-2zM9 17H7v-7h2v7zm4 0h-2V7h2v10zm4 0h-2v-4h2v4z\"/>\n",
              "    </g>\n",
              "</svg>\n",
              "  </button>\n",
              "\n",
              "<style>\n",
              "  .colab-df-quickchart {\n",
              "      --bg-color: #E8F0FE;\n",
              "      --fill-color: #1967D2;\n",
              "      --hover-bg-color: #E2EBFA;\n",
              "      --hover-fill-color: #174EA6;\n",
              "      --disabled-fill-color: #AAA;\n",
              "      --disabled-bg-color: #DDD;\n",
              "  }\n",
              "\n",
              "  [theme=dark] .colab-df-quickchart {\n",
              "      --bg-color: #3B4455;\n",
              "      --fill-color: #D2E3FC;\n",
              "      --hover-bg-color: #434B5C;\n",
              "      --hover-fill-color: #FFFFFF;\n",
              "      --disabled-bg-color: #3B4455;\n",
              "      --disabled-fill-color: #666;\n",
              "  }\n",
              "\n",
              "  .colab-df-quickchart {\n",
              "    background-color: var(--bg-color);\n",
              "    border: none;\n",
              "    border-radius: 50%;\n",
              "    cursor: pointer;\n",
              "    display: none;\n",
              "    fill: var(--fill-color);\n",
              "    height: 32px;\n",
              "    padding: 0;\n",
              "    width: 32px;\n",
              "  }\n",
              "\n",
              "  .colab-df-quickchart:hover {\n",
              "    background-color: var(--hover-bg-color);\n",
              "    box-shadow: 0 1px 2px rgba(60, 64, 67, 0.3), 0 1px 3px 1px rgba(60, 64, 67, 0.15);\n",
              "    fill: var(--button-hover-fill-color);\n",
              "  }\n",
              "\n",
              "  .colab-df-quickchart-complete:disabled,\n",
              "  .colab-df-quickchart-complete:disabled:hover {\n",
              "    background-color: var(--disabled-bg-color);\n",
              "    fill: var(--disabled-fill-color);\n",
              "    box-shadow: none;\n",
              "  }\n",
              "\n",
              "  .colab-df-spinner {\n",
              "    border: 2px solid var(--fill-color);\n",
              "    border-color: transparent;\n",
              "    border-bottom-color: var(--fill-color);\n",
              "    animation:\n",
              "      spin 1s steps(1) infinite;\n",
              "  }\n",
              "\n",
              "  @keyframes spin {\n",
              "    0% {\n",
              "      border-color: transparent;\n",
              "      border-bottom-color: var(--fill-color);\n",
              "      border-left-color: var(--fill-color);\n",
              "    }\n",
              "    20% {\n",
              "      border-color: transparent;\n",
              "      border-left-color: var(--fill-color);\n",
              "      border-top-color: var(--fill-color);\n",
              "    }\n",
              "    30% {\n",
              "      border-color: transparent;\n",
              "      border-left-color: var(--fill-color);\n",
              "      border-top-color: var(--fill-color);\n",
              "      border-right-color: var(--fill-color);\n",
              "    }\n",
              "    40% {\n",
              "      border-color: transparent;\n",
              "      border-right-color: var(--fill-color);\n",
              "      border-top-color: var(--fill-color);\n",
              "    }\n",
              "    60% {\n",
              "      border-color: transparent;\n",
              "      border-right-color: var(--fill-color);\n",
              "    }\n",
              "    80% {\n",
              "      border-color: transparent;\n",
              "      border-right-color: var(--fill-color);\n",
              "      border-bottom-color: var(--fill-color);\n",
              "    }\n",
              "    90% {\n",
              "      border-color: transparent;\n",
              "      border-bottom-color: var(--fill-color);\n",
              "    }\n",
              "  }\n",
              "</style>\n",
              "\n",
              "  <script>\n",
              "    async function quickchart(key) {\n",
              "      const quickchartButtonEl =\n",
              "        document.querySelector('#' + key + ' button');\n",
              "      quickchartButtonEl.disabled = true;  // To prevent multiple clicks.\n",
              "      quickchartButtonEl.classList.add('colab-df-spinner');\n",
              "      try {\n",
              "        const charts = await google.colab.kernel.invokeFunction(\n",
              "            'suggestCharts', [key], {});\n",
              "      } catch (error) {\n",
              "        console.error('Error during call to suggestCharts:', error);\n",
              "      }\n",
              "      quickchartButtonEl.classList.remove('colab-df-spinner');\n",
              "      quickchartButtonEl.classList.add('colab-df-quickchart-complete');\n",
              "    }\n",
              "    (() => {\n",
              "      let quickchartButtonEl =\n",
              "        document.querySelector('#df-0ce7a395-9e58-4141-b3e5-55a1fea5cc8d button');\n",
              "      quickchartButtonEl.style.display =\n",
              "        google.colab.kernel.accessAllowed ? 'block' : 'none';\n",
              "    })();\n",
              "  </script>\n",
              "</div>\n",
              "\n",
              "    </div>\n",
              "  </div>\n"
            ],
            "application/vnd.google.colaboratory.intrinsic+json": {
              "type": "dataframe",
              "variable_name": "df",
              "summary": "{\n  \"name\": \"df\",\n  \"rows\": 768,\n  \"fields\": [\n    {\n      \"column\": \"Pregnancies\",\n      \"properties\": {\n        \"dtype\": \"number\",\n        \"std\": 3,\n        \"min\": 0,\n        \"max\": 17,\n        \"num_unique_values\": 17,\n        \"samples\": [\n          6,\n          1,\n          3\n        ],\n        \"semantic_type\": \"\",\n        \"description\": \"\"\n      }\n    },\n    {\n      \"column\": \"Glucose\",\n      \"properties\": {\n        \"dtype\": \"number\",\n        \"std\": 30.53564107280403,\n        \"min\": 44.0,\n        \"max\": 199.0,\n        \"num_unique_values\": 135,\n        \"samples\": [\n          135.0,\n          134.0,\n          86.0\n        ],\n        \"semantic_type\": \"\",\n        \"description\": \"\"\n      }\n    },\n    {\n      \"column\": \"BloodPressure\",\n      \"properties\": {\n        \"dtype\": \"number\",\n        \"std\": 19,\n        \"min\": 0,\n        \"max\": 122,\n        \"num_unique_values\": 47,\n        \"samples\": [\n          86,\n          46,\n          85\n        ],\n        \"semantic_type\": \"\",\n        \"description\": \"\"\n      }\n    },\n    {\n      \"column\": \"SkinThickness\",\n      \"properties\": {\n        \"dtype\": \"number\",\n        \"std\": 15,\n        \"min\": 0,\n        \"max\": 99,\n        \"num_unique_values\": 51,\n        \"samples\": [\n          7,\n          12,\n          48\n        ],\n        \"semantic_type\": \"\",\n        \"description\": \"\"\n      }\n    },\n    {\n      \"column\": \"Insulin\",\n      \"properties\": {\n        \"dtype\": \"number\",\n        \"std\": 118.77585518724518,\n        \"min\": 14.0,\n        \"max\": 846.0,\n        \"num_unique_values\": 185,\n        \"samples\": [\n          240.0,\n          18.0,\n          274.0\n        ],\n        \"semantic_type\": \"\",\n        \"description\": \"\"\n      }\n    },\n    {\n      \"column\": \"BMI\",\n      \"properties\": {\n        \"dtype\": \"number\",\n        \"std\": 7.884160320375446,\n        \"min\": 0.0,\n        \"max\": 67.1,\n        \"num_unique_values\": 248,\n        \"samples\": [\n          19.9,\n          31.0,\n          38.1\n        ],\n        \"semantic_type\": \"\",\n        \"description\": \"\"\n      }\n    },\n    {\n      \"column\": \"DiabetesPedigreeFunction\",\n      \"properties\": {\n        \"dtype\": \"number\",\n        \"std\": 0.3313285950127749,\n        \"min\": 0.078,\n        \"max\": 2.42,\n        \"num_unique_values\": 517,\n        \"samples\": [\n          1.731,\n          0.426,\n          0.138\n        ],\n        \"semantic_type\": \"\",\n        \"description\": \"\"\n      }\n    },\n    {\n      \"column\": \"Age\",\n      \"properties\": {\n        \"dtype\": \"number\",\n        \"std\": 11,\n        \"min\": 21,\n        \"max\": 81,\n        \"num_unique_values\": 52,\n        \"samples\": [\n          60,\n          47,\n          72\n        ],\n        \"semantic_type\": \"\",\n        \"description\": \"\"\n      }\n    },\n    {\n      \"column\": \"Outcome\",\n      \"properties\": {\n        \"dtype\": \"number\",\n        \"std\": 0,\n        \"min\": 0,\n        \"max\": 1,\n        \"num_unique_values\": 2,\n        \"samples\": [\n          0,\n          1\n        ],\n        \"semantic_type\": \"\",\n        \"description\": \"\"\n      }\n    }\n  ]\n}"
            }
          },
          "metadata": {},
          "execution_count": 16
        }
      ]
    },
    {
      "cell_type": "code",
      "source": [
        "#############################################\n",
        "# Feature Extraction (Özellik Çıkarımı)\n",
        "#############################################\n",
        "\n",
        "#############################################\n",
        "# Binary Features: Flag, Bool, True-False\n",
        "#############################################\n",
        "\n",
        "df[\"New_Is_Insulin_Missing\"] = df[\"Insulin\"].notnull().astype('int')\n",
        "print(df.groupby(\"New_Is_Insulin_Missing\").agg({\"Outcome\": \"mean\"}))\n",
        "print(df.head())"
      ],
      "metadata": {
        "id": "52CsBy_rKDBC",
        "colab": {
          "base_uri": "https://localhost:8080/"
        },
        "outputId": "fa8dd7f9-ee1c-4aba-8471-4ee4bded9550"
      },
      "execution_count": 17,
      "outputs": [
        {
          "output_type": "stream",
          "name": "stdout",
          "text": [
            "                        Outcome\n",
            "New_Is_Insulin_Missing         \n",
            "0                         0.369\n",
            "1                         0.330\n",
            "   Pregnancies  Glucose  BloodPressure  SkinThickness  Insulin    BMI  DiabetesPedigreeFunction  Age  Outcome  New_Is_Insulin_Missing\n",
            "0            6  148.000             72             35      NaN 33.600                     0.627   50        1                       0\n",
            "1            1   85.000             66             29      NaN 26.600                     0.351   31        0                       0\n",
            "2            8  183.000             64              0      NaN 23.300                     0.672   32        1                       0\n",
            "3            1   89.000             66             23   94.000 28.100                     0.167   21        0                       1\n",
            "4            0  137.000             40             35  168.000 43.100                     2.288   33        1                       1\n"
          ]
        }
      ]
    },
    {
      "cell_type": "code",
      "source": [
        "test_stat, pvalue = proportions_ztest(count=[df.loc[df[\"New_Is_Insulin_Missing\"] == 1, \"Outcome\"].sum(),\n",
        "                                             df.loc[df[\"New_Is_Insulin_Missing\"] == 0, \"Outcome\"].sum()], #Outcome olanların sayısı\n",
        "                                      nobs=[df.loc[df[\"New_Is_Insulin_Missing\"] == 1, \"Outcome\"].shape[0],\n",
        "                                            df.loc[df[\"New_Is_Insulin_Missing\"] == 0, \"Outcome\"].shape[0]])#Gözlem sayısı\n",
        "\n",
        "print('Test Stat = %.4f, p-value = %.4f' % (test_stat, pvalue))"
      ],
      "metadata": {
        "id": "JNo6g43-cdfz",
        "colab": {
          "base_uri": "https://localhost:8080/"
        },
        "outputId": "38e41841-6325-4f86-9cf9-e0f028a93e7f"
      },
      "execution_count": 18,
      "outputs": [
        {
          "output_type": "stream",
          "name": "stdout",
          "text": [
            "Test Stat = -1.1344, p-value = 0.2566\n"
          ]
        }
      ]
    },
    {
      "cell_type": "code",
      "source": [
        "#############################################\n",
        "# Aykırı Değer Problemini Çözme\n",
        "#############################################\n",
        "\n",
        "\n",
        "def outlier_thresholds(dataframe, col_name, q1=0.25, q3=0.75):\n",
        "    quartile1 = dataframe[col_name].quantile(q1)\n",
        "    quartile3 = dataframe[col_name].quantile(q3)\n",
        "    interquantile_range = quartile3 - quartile1\n",
        "    up_limit = quartile3 + 1.5 * interquantile_range\n",
        "    low_limit = quartile1 - 1.5 * interquantile_range\n",
        "    return low_limit, up_limit\n",
        "\n",
        "\n",
        "def check_outlier(dataframe, col_name):\n",
        "    low_limit, up_limit = outlier_thresholds(dataframe, col_name)\n",
        "    if dataframe[(dataframe[col_name] > up_limit) | (dataframe[col_name] < low_limit)].any(axis=None):\n",
        "        return True\n",
        "    else:\n",
        "        return False\n",
        "\n",
        "\n",
        "def grab_col_names(dataframe, cat_th=10, car_th=20):\n",
        "    \"\"\"\n",
        "    Veri setindeki kategorik, numerik ve kategorik fakat kardinal değişkenlerin isimlerini verir.\n",
        "    Not: Kategorik değişkenlerin içerisine numerik görünümlü kategorik değişkenler de dahildir.\n",
        "\n",
        "    Parameters\n",
        "    ------\n",
        "        dataframe: dataframe\n",
        "                Değişken isimleri alınmak istenilen dataframe\n",
        "        cat_th: int, optional\n",
        "                numerik fakat kategorik olan değişkenler için sınıf eşik değeri\n",
        "        car_th: int, optinal\n",
        "                kategorik fakat kardinal değişkenler için sınıf eşik değeri\n",
        "\n",
        "    Returns\n",
        "    ------\n",
        "        cat_cols: list\n",
        "                Kategorik değişken listesi\n",
        "        num_cols: list\n",
        "                Numerik değişken listesi\n",
        "        cat_but_car: list\n",
        "                Kategorik görünümlü kardinal değişken listesi\n",
        "\n",
        "    Examples\n",
        "    ------\n",
        "        import seaborn as sns\n",
        "        df = sns.load_dataset(\"iris\")\n",
        "        print(grab_col_names(df))\n",
        "\n",
        "\n",
        "    Notes\n",
        "    ------\n",
        "        cat_cols + num_cols + cat_but_car = toplam değişken sayısı\n",
        "        num_but_cat cat_cols'un içerisinde.\n",
        "        Return olan 3 liste toplamı toplam değişken sayısına eşittir: cat_cols + num_cols + cat_but_car = değişken sayısı\n",
        "\n",
        "    \"\"\"\n",
        "    cat_cols = [col for col in dataframe.columns if dataframe[col].dtypes == \"O\"] #değişken tipi object ise\n",
        "    num_but_cat = [col for col in dataframe.columns if dataframe[col].nunique() < cat_th and\n",
        "                   dataframe[col].dtypes != \"O\"]\n",
        "    cat_but_car = [col for col in dataframe.columns if dataframe[col].nunique() > car_th and\n",
        "                   dataframe[col].dtypes == \"O\"]\n",
        "    cat_cols = cat_cols + num_but_cat\n",
        "    cat_cols = [col for col in cat_cols if col not in cat_but_car]\n",
        "\n",
        "    # num_cols\n",
        "    num_cols = [col for col in dataframe.columns if dataframe[col].dtypes != \"O\"]\n",
        "    num_cols = [col for col in num_cols if col not in num_but_cat]\n",
        "\n",
        "    print(f\"Observations: {dataframe.shape[0]}\")\n",
        "    print(f\"Variables: {dataframe.shape[1]}\")\n",
        "    print(f'cat_cols: {len(cat_cols)}')\n",
        "    print(f'num_cols: {len(num_cols)}')\n",
        "    print(f'cat_but_car: {len(cat_but_car)}')\n",
        "    print(f'num_but_cat: {len(num_but_cat)}')\n",
        "    return cat_cols, num_cols, cat_but_car"
      ],
      "metadata": {
        "id": "rS20i9B1cgmI"
      },
      "execution_count": 19,
      "outputs": []
    },
    {
      "cell_type": "code",
      "source": [
        "\n",
        "###################\n",
        "# Baskılama Yöntemi (re-assignment with thresholds)\n",
        "###################\n",
        "\n",
        "\n",
        "def replace_with_thresholds(dataframe, variable):\n",
        "    low_limit, up_limit = outlier_thresholds(dataframe, variable)\n",
        "    dataframe.loc[(dataframe[variable] < low_limit), variable] = low_limit\n",
        "    dataframe.loc[(dataframe[variable] > up_limit), variable] = up_limit"
      ],
      "metadata": {
        "id": "AuiLfd0Pcoon"
      },
      "execution_count": 20,
      "outputs": []
    },
    {
      "cell_type": "code",
      "source": [
        "cat_cols, num_cols, cat_but_car = grab_col_names(df)\n",
        "\n",
        "print(cat_cols)\n",
        "print(num_cols)\n",
        "print(cat_but_car)"
      ],
      "metadata": {
        "id": "ND8G44L0crbN",
        "colab": {
          "base_uri": "https://localhost:8080/"
        },
        "outputId": "62b146f1-c561-49fa-f0e6-7ff8ff39493b"
      },
      "execution_count": 21,
      "outputs": [
        {
          "output_type": "stream",
          "name": "stdout",
          "text": [
            "Observations: 768\n",
            "Variables: 10\n",
            "cat_cols: 2\n",
            "num_cols: 8\n",
            "cat_but_car: 0\n",
            "num_but_cat: 2\n",
            "['Outcome', 'New_Is_Insulin_Missing']\n",
            "['Pregnancies', 'Glucose', 'BloodPressure', 'SkinThickness', 'Insulin', 'BMI', 'DiabetesPedigreeFunction', 'Age']\n",
            "[]\n"
          ]
        }
      ]
    },
    {
      "cell_type": "code",
      "source": [
        "num_cols = [col for col in num_cols]\n",
        "print(df.shape)\n",
        "\n",
        "for col in num_cols:\n",
        "    print(col, check_outlier(df, col))\n",
        "    replace_with_thresholds(df, col)\n",
        "    print(col, check_outlier(df, col))"
      ],
      "metadata": {
        "id": "VgcQX_jVcuo9",
        "colab": {
          "base_uri": "https://localhost:8080/"
        },
        "outputId": "0d410027-fe16-4b3b-8505-2a5b88271909"
      },
      "execution_count": 22,
      "outputs": [
        {
          "output_type": "stream",
          "name": "stdout",
          "text": [
            "(768, 10)\n",
            "Pregnancies True\n",
            "Pregnancies False\n",
            "Glucose False\n",
            "Glucose False\n",
            "BloodPressure True\n",
            "BloodPressure False\n",
            "SkinThickness True\n",
            "SkinThickness False\n",
            "Insulin True\n",
            "Insulin False\n",
            "BMI True\n",
            "BMI False\n",
            "DiabetesPedigreeFunction True\n",
            "DiabetesPedigreeFunction False\n",
            "Age True\n",
            "Age False\n"
          ]
        }
      ]
    },
    {
      "cell_type": "code",
      "source": [
        "#############################################\n",
        "# Missing Values (Eksik Değerler)\n",
        "#############################################\n",
        "\n",
        "# eksik gozlem var mı yok mu sorgusu\n",
        "print(df.isnull().values.any())\n",
        "\n",
        "# degiskenlerdeki eksik deger sayisi\n",
        "print(df.isnull().sum().sort_values(ascending=False))"
      ],
      "metadata": {
        "id": "PhKRHWZzc0oG",
        "colab": {
          "base_uri": "https://localhost:8080/"
        },
        "outputId": "4b8e833c-85da-4e45-baf0-b4b24d94a47c"
      },
      "execution_count": 23,
      "outputs": [
        {
          "output_type": "stream",
          "name": "stdout",
          "text": [
            "True\n",
            "Insulin                     374\n",
            "Glucose                       5\n",
            "Pregnancies                   0\n",
            "BloodPressure                 0\n",
            "SkinThickness                 0\n",
            "BMI                           0\n",
            "DiabetesPedigreeFunction      0\n",
            "Age                           0\n",
            "Outcome                       0\n",
            "New_Is_Insulin_Missing        0\n",
            "dtype: int64\n"
          ]
        }
      ]
    },
    {
      "cell_type": "code",
      "source": [
        "na_cols = [col for col in df.columns if df[col].isnull().sum() > 0]\n",
        "\n",
        "print(na_cols)"
      ],
      "metadata": {
        "id": "zkzehN-oc3nf",
        "colab": {
          "base_uri": "https://localhost:8080/"
        },
        "outputId": "c5c67123-56ee-453f-d62f-b5cee4738f5c"
      },
      "execution_count": 24,
      "outputs": [
        {
          "output_type": "stream",
          "name": "stdout",
          "text": [
            "['Glucose', 'Insulin']\n"
          ]
        }
      ]
    },
    {
      "cell_type": "code",
      "source": [
        "#############################################\n",
        "# Eksik Değer Problemini Çözme\n",
        "#############################################\n",
        "\n",
        "#############################################\n",
        "# Medyan ile değiştirme\n",
        "#############################################\n",
        "\n",
        "\n",
        "def replace_with_mean(dataframe, variable):\n",
        "    variable_mean = dataframe[variable].mean()\n",
        "    dataframe[variable] = dataframe[variable].replace(np.nan, variable_mean)"
      ],
      "metadata": {
        "id": "A81KfGVPc6_4"
      },
      "execution_count": 25,
      "outputs": []
    },
    {
      "cell_type": "code",
      "source": [
        "for col in na_cols:\n",
        "    replace_with_mean(df, col)\n",
        "\n",
        "# eksik gozlem var mı yok mu sorgusu\n",
        "print(df.isnull().values.any())"
      ],
      "metadata": {
        "id": "fr6tMC84c9oT",
        "colab": {
          "base_uri": "https://localhost:8080/"
        },
        "outputId": "df5f05ab-49b4-4345-96cd-7f3add808934"
      },
      "execution_count": 26,
      "outputs": [
        {
          "output_type": "stream",
          "name": "stdout",
          "text": [
            "False\n"
          ]
        }
      ]
    },
    {
      "cell_type": "code",
      "source": [
        "#############################################\n",
        "# 3. Encoding (Label Encoding, One-Hot Encoding, Rare Encoding)\n",
        "#############################################\n",
        "\n",
        "#############################################\n",
        "# One-Hot Encoding\n",
        "#############################################\n",
        "\n",
        "\n",
        "def one_hot_encoder(dataframe, categorical_cols, drop_first=True):\n",
        "    dataframe = pd.get_dummies(dataframe, columns=categorical_cols, drop_first=drop_first)\n",
        "    return dataframe"
      ],
      "metadata": {
        "id": "fpcwOdlzdDhI"
      },
      "execution_count": 27,
      "outputs": []
    },
    {
      "cell_type": "code",
      "source": [
        "ohe_cols = [col for col in df.columns if 15 >= df[col].nunique() > 2]\n",
        "\n",
        "print(ohe_cols)\n",
        "\n",
        "print(one_hot_encoder(df, ohe_cols).head())"
      ],
      "metadata": {
        "id": "X88URBQ9dFZd",
        "colab": {
          "base_uri": "https://localhost:8080/"
        },
        "outputId": "60e3a526-81b6-466e-b91a-c11a5fc40324"
      },
      "execution_count": 28,
      "outputs": [
        {
          "output_type": "stream",
          "name": "stdout",
          "text": [
            "['Pregnancies']\n",
            "   Glucose  BloodPressure  SkinThickness  Insulin    BMI  DiabetesPedigreeFunction    Age  Outcome  New_Is_Insulin_Missing  Pregnancies_1.0  Pregnancies_2.0  Pregnancies_3.0  Pregnancies_4.0  Pregnancies_5.0  Pregnancies_6.0  Pregnancies_7.0  Pregnancies_8.0  Pregnancies_9.0  Pregnancies_10.0  Pregnancies_11.0  Pregnancies_12.0  Pregnancies_13.0  Pregnancies_13.5\n",
            "0  148.000             72             35  146.500 33.600                     0.627 50.000        1                       0            False            False            False            False            False             True            False            False            False             False             False             False             False             False\n",
            "1   85.000             66             29  146.500 26.600                     0.351 31.000        0                       0             True            False            False            False            False            False            False            False            False             False             False             False             False             False\n",
            "2  183.000             64              0  146.500 23.300                     0.672 32.000        1                       0            False            False            False            False            False            False            False             True            False             False             False             False             False             False\n",
            "3   89.000             66             23   94.000 28.100                     0.167 21.000        0                       1             True            False            False            False            False            False            False            False            False             False             False             False             False             False\n",
            "4  137.000             40             35  168.000 43.100                     1.200 33.000        1                       1            False            False            False            False            False            False            False            False            False             False             False             False             False             False\n"
          ]
        }
      ]
    },
    {
      "cell_type": "code",
      "source": [
        "#############################################\n",
        "# Feature Scaling (Özellik Ölçeklendirme)\n",
        "#############################################\n",
        "\n",
        "###################\n",
        "# StandardScaler: Klasik standartlaştırma. Ortalamayı çıkar, standart sapmaya böl. z = (x - u) / s\n",
        "###################\n",
        "\n",
        "\n",
        "def standart_scaler(dataframe, variable):\n",
        "    ss = StandardScaler()\n",
        "    dataframe[variable + '_standart_scaled'] = ss.fit_transform(dataframe[[variable]])"
      ],
      "metadata": {
        "id": "73gydBobdJqx"
      },
      "execution_count": 29,
      "outputs": []
    },
    {
      "cell_type": "code",
      "source": [
        "for col in num_cols:\n",
        "    standart_scaler(df, col)\n",
        "\n",
        "print(df.head())"
      ],
      "metadata": {
        "id": "mTj7qo4UdLLx",
        "colab": {
          "base_uri": "https://localhost:8080/"
        },
        "outputId": "3f342ba7-9c6e-475b-ace1-5b8a13ea4628"
      },
      "execution_count": 30,
      "outputs": [
        {
          "output_type": "stream",
          "name": "stdout",
          "text": [
            "   Pregnancies  Glucose  BloodPressure  SkinThickness  Insulin    BMI  DiabetesPedigreeFunction    Age  Outcome  New_Is_Insulin_Missing  Pregnancies_standart_scaled  Glucose_standart_scaled  BloodPressure_standart_scaled  SkinThickness_standart_scaled  Insulin_standart_scaled  BMI_standart_scaled  DiabetesPedigreeFunction_standart_scaled  Age_standart_scaled\n",
            "0        6.000  148.000             72             35  146.500 33.600                     0.627 50.000        1                       0                        0.647                    0.865                          0.093                          0.915                    0.000                0.209                                     0.589                1.446\n",
            "1        1.000   85.000             66             29  146.500 26.600                     0.351 31.000        0                       0                       -0.849                   -1.206                         -0.330                          0.536                    0.000               -0.784                                    -0.378               -0.189\n",
            "2        8.000  183.000             64              0  146.500 23.300                     0.672 32.000        1                       0                        1.246                    2.016                         -0.471                         -1.295                    0.000               -1.253                                     0.747               -0.103\n",
            "3        1.000   89.000             66             23   94.000 28.100                     0.167 21.000        0                       1                       -0.849                   -1.075                         -0.330                          0.157                   -0.812               -0.571                                    -1.023               -1.050\n",
            "4        0.000  137.000             40             35  168.000 43.100                     1.200 33.000        1                       1                       -1.148                    0.503                         -2.163                          0.915                    0.333                1.558                                     2.597               -0.017\n"
          ]
        }
      ]
    },
    {
      "cell_type": "code",
      "source": [
        "#############################################\n",
        "# 8. Model\n",
        "#############################################\n",
        "\n",
        "y = df[\"Outcome\"]\n",
        "X = df.drop([\"New_Is_Insulin_Missing\", \"Outcome\"], axis=1)\n",
        "\n",
        "X_train, X_test, y_train, y_test = train_test_split(X, y, test_size=0.30, random_state=42)\n",
        "\n",
        "rf_model = RandomForestClassifier(random_state=46).fit(X_train, y_train)\n",
        "\n",
        "y_pred = rf_model.predict(X_test)\n",
        "\n",
        "print(accuracy_score(y_pred, y_test))"
      ],
      "metadata": {
        "id": "lf3HhgordNLg",
        "colab": {
          "base_uri": "https://localhost:8080/"
        },
        "outputId": "f8d90d48-3449-44e9-e408-84b5fb5ee0a0"
      },
      "execution_count": 31,
      "outputs": [
        {
          "output_type": "stream",
          "name": "stdout",
          "text": [
            "0.7316017316017316\n"
          ]
        }
      ]
    },
    {
      "cell_type": "code",
      "source": [
        "#############################################\n",
        "# Hiç bir işlem yapılmadan elde edilecek skor?\n",
        "#############################################\n",
        "\n",
        "dff = load()\n",
        "dff.dropna(inplace=True)\n",
        "y = dff[\"Outcome\"]\n",
        "X = dff.drop([\"Outcome\"], axis=1)\n",
        "X_train, X_test, y_train, y_test = train_test_split(X, y, test_size=0.30, random_state=17)\n",
        "rf_model = RandomForestClassifier(random_state=46).fit(X_train, y_train)\n",
        "y_pred = rf_model.predict(X_test)\n",
        "print(accuracy_score(y_pred, y_test))"
      ],
      "metadata": {
        "id": "cp9xZB85dRD_",
        "colab": {
          "base_uri": "https://localhost:8080/"
        },
        "outputId": "88cbab82-654c-4762-aa21-91339b5af9fd"
      },
      "execution_count": 32,
      "outputs": [
        {
          "output_type": "stream",
          "name": "stdout",
          "text": [
            "0.7627118644067796\n"
          ]
        }
      ]
    }
  ]
}